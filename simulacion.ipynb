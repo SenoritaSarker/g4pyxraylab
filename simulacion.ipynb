{
  "cells": [
    {
      "cell_type": "code",
      "source": [
        "import requests\n",
        "from bs4 import BeautifulSoup\n",
        "import Geant4\n",
        "from Geant4 import *\n",
        "import g4py.NISTmaterials\n",
        "import g4py.ezgeom\n",
        "from g4py.ezgeom import G4EzVolume\n",
        "import g4py.EMSTDpl\n",
        "import g4py.ParticleGun\n",
        "import g4py.MedicalBeam\n",
        "import os\n",
        "import os.path\n",
        "import base64  \n",
        "from IPython.display import HTML\n",
        "import ipywidgets as widgets\n",
        "from ipywidgets import Button, Layout\n",
        "style = {'description_width': 'initial'}\n",
        "from ipywidgets import IntSlider\n",
        "import math"
      ],
      "outputs": [],
      "execution_count": null,
      "metadata": {
        "collapsed": false,
        "outputHidden": false,
        "inputHidden": false
      }
    },
    {
      "cell_type": "code",
      "source": [
        "particle_type_selector = widgets.ToggleButtons(options={'Photons':'gamma', 'Positrons':'e+', 'Electrons':'e-'}, \n",
        "                                               description='Particle type:'.decode('utf-8'), value='gamma')\n",
        "display(particle_type_selector)\n",
        "\n",
        "number_of_particles_slider = widgets.IntSlider(\n",
        "    value=20,\n",
        "    min=1,\n",
        "    max=100,\n",
        "    step=9,\n",
        "    description='Number of particles:',\n",
        "    continuous_update=False,\n",
        "    readout=True,\n",
        "    readout_format='d', style=style\n",
        ")\n",
        "display(number_of_particles_slider)\n",
        "\n",
        "phantom_material_dropdown = widgets.Dropdown(\n",
        "    options={'Water':'G4_WATER', 'Air':'G4_AIR', 'Iron': 'G4_Fe', 'Lead':'G4_Pb', 'Copper': 'G4_Cu', 'Gold': 'G4_Au', 'Sodium iodide': 'G4_SODIUM_IODIDE', 'Aluminum': 'G4_Al'},\n",
        "    value='G4_WATER',\n",
        "    description='Phantom material:', layout=Layout(width='100%'), style=style\n",
        ")\n",
        "display(phantom_material_dropdown)\n",
        "\n",
        "world_material_selector = widgets.ToggleButtons(style=style, options={'Air':'G4_AIR', 'Empty space'.decode('utf-8'):'G4_Galactic', 'Water':'G4_WATER'}, description='World material:', value='G4_AIR')\n",
        "display(world_material_selector)\n",
        "\n",
        "phantom_range_slider = widgets.IntRangeSlider(\n",
        "    value=[100, 120],\n",
        "    min=0,\n",
        "    max=200,\n",
        "    step=10,\n",
        "    description='Phantom location and width:'.decode('utf-8'),\n",
        "    readout=True,\n",
        "    readout_format='d', layout=Layout(width='100%', height='80px'), style=style\n",
        ")\n",
        "display(phantom_range_slider)\n",
        "\n",
        "particle_energy_slider = widgets.FloatSlider(\n",
        "    value=.1,\n",
        "    min=0.01,\n",
        "    max=.2,\n",
        "    step=.01,\n",
        "    description='Particle energy (in MeV):',\n",
        "    continuous_update=False,\n",
        "    readout=True,\n",
        "    readout_format='.2f', style=style, layout=Layout(width='80%', height='80px')\n",
        ")\n",
        "display(particle_energy_slider)"
      ],
      "outputs": [],
      "execution_count": null,
      "metadata": {
        "collapsed": false,
        "outputHidden": false,
        "inputHidden": false
      }
    },
    {
      "cell_type": "code",
      "source": [
        "phantom_zwidth = math.floor(phantom_range_slider.value[1] - phantom_range_slider.value[0])*cm\n",
        "rand_engine = Ranlux64Engine()\n",
        "HepRandom.setTheEngine(rand_engine)\n",
        "HepRandom.setTheSeed(20050830L)\n",
        "g4py.NISTmaterials.Construct()\n",
        "g4py.ezgeom.Construct()\n",
        "g4py.EMSTDpl.Construct()\n",
        "g4py.ParticleGun.Construct()\n",
        "world_material = G4Material.GetMaterial(world_material_selector.value)\n",
        "g4py.ezgeom.SetWorldMaterial(world_material)\n",
        "g4py.ezgeom.ResizeWorld(120.*cm, 120.*cm, 400.*cm)\n",
        "phantom_material = G4Material.GetMaterial(phantom_material_dropdown.value)\n",
        "phantom = G4EzVolume(\"PhantomBox\")\n",
        "phantom_zlocation = math.floor(phantom_range_slider.value[0])*cm\n",
        "phantom.CreateBoxVolume(phantom_material, 100.0 * cm, 100.0 * cm, phantom_zwidth)\n",
        "phantom.SetColor(0., 0.9, 1.0)\n",
        "phantom.PlaceIt(G4ThreeVector(0.*cm, 0.*cm, phantom_zlocation))\n",
        "beam = g4py.MedicalBeam.Construct()\n",
        "beam.particle = particle_type_selector.value\n",
        "beam.kineticE = particle_energy_slider.value*MeV\n",
        "beam.sourcePosition = G4ThreeVector(0.*cm, 0.*cm, -90.*cm)\n",
        "beam.fieldXY = [120.*cm, 120.*cm]\n",
        "beam.SSD = 190.*cm\n",
        "gApplyUICommand(\"/run/initialize\")\n",
        "gApplyUICommand(\"/vis/viewer/flush\")\n",
        "gApplyUICommand(\"/vis/open VRML2FILE\")\n",
        "gApplyUICommand(\"/vis/viewer/refresh\")\n",
        "gApplyUICommand(\"/vis/scene/create\")\n",
        "gApplyUICommand(\"/vis/scene/add/volume\")\n",
        "gApplyUICommand(\"/vis/drawVolume\")\n",
        "gApplyUICommand(\"/vis/modeling/trajectories/create/drawByParticleID\")\n",
        "gApplyUICommand(\"/vis/modeling/trajectories/drawByParticleID-0/set gamma white\")\n",
        "gApplyUICommand(\"/vis/modeling/trajectories/drawByParticleID-0/set proton blue\")\n",
        "gApplyUICommand(\"/vis/modeling/trajectories/drawByParticleID-0/set e- yellow\")\n",
        "gApplyUICommand(\"/vis/modeling/trajectories/drawByParticleID-0/set e+ green\")\n",
        "gApplyUICommand(\"/vis/sceneHandler/attach\")\n",
        "gApplyUICommand(\"/vis/viewer/set/style wireframe\")\n",
        "gApplyUICommand(\"/vis/viewer/set/viewpointThetaPhi 70. 10.\")\n",
        "gApplyUICommand(\"/vis/viewer/zoom 1.\")\n",
        "gApplyUICommand(\"/tracking/storeTrajectory 1\")\n",
        "gApplyUICommand(\"/vis/scene/add/trajectories\")\n",
        "gApplyUICommand(\"/vis/scene/add/hits\")\n",
        "gApplyUICommand(\"/vis/scene/add/trajectories smooth\")\n",
        "gApplyUICommand(\"/vis/scene/endOfEventAction accumulate\")\n",
        "gRunManager.Initialize()\n",
        "gRunManager.BeamOn(number_of_particles_slider.value)\n",
        "os.rename(\"g4_00.wrl\", \"simulacion.wrl\")"
      ],
      "outputs": [],
      "execution_count": null,
      "metadata": {
        "collapsed": false,
        "outputHidden": false,
        "inputHidden": false
      }
    },
    {
      "cell_type": "code",
      "source": [
        "import base64  \n",
        "from IPython.display import HTML\n",
        "with open('simulacion.wrl', 'r') as file:\n",
        "    data = file.read()\n",
        "b64 = base64.b64encode(data.encode())\n",
        "payload = b64.decode()\n",
        "html = '<a download=\"simulacion.wrl\" href=\"data:text/wrl;base64,{payload}\" target=\"_blank\">{title}</a>'\n",
        "html = html.format(payload=payload, title='Download raw WRL file',filename='simulacion.wrl')\n",
        "HTML(html)"
      ],
      "outputs": [
        {
          "output_type": "error",
          "ename": "KeyError",
          "evalue": "'simulacion'",
          "traceback": [
            "\u001b[0;31m---------------------------------------------------------------------------\u001b[0m",
            "\u001b[0;31mKeyError\u001b[0m                                  Traceback (most recent call last)",
            "\u001b[0;32m<ipython-input-3-229a52372047>\u001b[0m in \u001b[0;36m<module>\u001b[0;34m\u001b[0m\n\u001b[1;32m      7\u001b[0m \u001b[0mpayload\u001b[0m \u001b[0;34m=\u001b[0m \u001b[0mb64\u001b[0m\u001b[0;34m.\u001b[0m\u001b[0mdecode\u001b[0m\u001b[0;34m(\u001b[0m\u001b[0;34m)\u001b[0m\u001b[0;34m\u001b[0m\u001b[0;34m\u001b[0m\u001b[0m\n\u001b[1;32m      8\u001b[0m \u001b[0mhtml\u001b[0m \u001b[0;34m=\u001b[0m \u001b[0;34m'<a download=\"{simulacion.wrl}\" href=\"data:text/wrl;base64,{payload}\" target=\"_blank\">{title}</a>'\u001b[0m\u001b[0;34m\u001b[0m\u001b[0;34m\u001b[0m\u001b[0m\n\u001b[0;32m----> 9\u001b[0;31m \u001b[0mhtml\u001b[0m \u001b[0;34m=\u001b[0m \u001b[0mhtml\u001b[0m\u001b[0;34m.\u001b[0m\u001b[0mformat\u001b[0m\u001b[0;34m(\u001b[0m\u001b[0mpayload\u001b[0m\u001b[0;34m=\u001b[0m\u001b[0mpayload\u001b[0m\u001b[0;34m,\u001b[0m \u001b[0mtitle\u001b[0m\u001b[0;34m=\u001b[0m\u001b[0;34m'Download raw WRL file'\u001b[0m\u001b[0;34m,\u001b[0m\u001b[0mfilename\u001b[0m\u001b[0;34m=\u001b[0m\u001b[0;34m'simulacion.wrl'\u001b[0m\u001b[0;34m)\u001b[0m\u001b[0;34m\u001b[0m\u001b[0;34m\u001b[0m\u001b[0m\n\u001b[0m\u001b[1;32m     10\u001b[0m \u001b[0mHTML\u001b[0m\u001b[0;34m(\u001b[0m\u001b[0mhtml\u001b[0m\u001b[0;34m)\u001b[0m\u001b[0;34m\u001b[0m\u001b[0;34m\u001b[0m\u001b[0m\n\u001b[1;32m     11\u001b[0m \u001b[0;34m\u001b[0m\u001b[0m\n",
            "\u001b[0;31mKeyError\u001b[0m: 'simulacion'"
          ]
        }
      ],
      "execution_count": 3,
      "metadata": {
        "collapsed": false,
        "outputHidden": false,
        "inputHidden": false
      }
    },
    {
      "cell_type": "code",
      "source": [
        "API_ENDPOINT = \"https://doc.instantreality.org/tools/x3d_encoding_converter/convert/\"\n",
        "\n",
        "with open('simulacion.wrl', 'r') as file:\n",
        "    wrl_data = file.read()\n",
        "\n",
        "data = {'input_encoding': 'CLASSIC',\n",
        "        'output_encoding': 'HTML5', 'input_code': wrl_data}\n",
        "\n",
        "r = requests.post(url=API_ENDPOINT, data=data)\n",
        "soup = BeautifulSoup(r.text)\n",
        "html_file = open(\"simulacion.html\", \"w\")\n",
        "html_file.write(soup.find('div', {'class': 'source'}).text)\n",
        "html_file.close()"
      ],
      "outputs": [],
      "execution_count": null,
      "metadata": {
        "collapsed": false,
        "outputHidden": false,
        "inputHidden": false
      }
    },
    {
      "cell_type": "code",
      "source": [
        "from IPython.display import IFrame\n",
        "IFrame(src='./simulacion.html', width=700, height=600)"
      ],
      "outputs": [],
      "execution_count": null,
      "metadata": {
        "collapsed": false,
        "outputHidden": false,
        "inputHidden": false
      }
    },
    {
      "cell_type": "code",
      "source": [
        "from IPython.core.display import HTML\n",
        "HTML(\"<script>Jupyter.notebook.kernel.restart()</script>\")"
      ],
      "outputs": [],
      "execution_count": null,
      "metadata": {
        "collapsed": false,
        "outputHidden": false,
        "inputHidden": false
      }
    }
  ],
  "metadata": {
    "kernel_info": {
      "name": "python3"
    },
    "language_info": {
      "name": "python",
      "version": "3.7.4",
      "mimetype": "text/x-python",
      "codemirror_mode": {
        "name": "ipython",
        "version": 3
      },
      "pygments_lexer": "ipython3",
      "nbconvert_exporter": "python",
      "file_extension": ".py"
    },
    "kernelspec": {
      "name": "python3",
      "language": "python",
      "display_name": "Python 3"
    },
    "nteract": {
      "version": "0.15.0"
    }
  },
  "nbformat": 4,
  "nbformat_minor": 0
}
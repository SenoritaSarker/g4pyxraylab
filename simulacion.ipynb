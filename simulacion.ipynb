{
  "cells": [
    {
      "cell_type": "code",
      "source": [
        "import requests\n",
        "from bs4 import BeautifulSoup\n",
        "import Geant4\n",
        "from Geant4 import *\n",
        "import g4py.NISTmaterials\n",
        "import g4py.ezgeom\n",
        "from g4py.ezgeom import G4EzVolume\n",
        "import g4py.EMSTDpl\n",
        "import g4py.ParticleGun\n",
        "import g4py.MedicalBeam\n",
        "import os.path\n",
        "import base64  \n",
        "from IPython.display import HTML"
      ],
      "outputs": [],
      "execution_count": null,
      "metadata": {
        "collapsed": false,
        "outputHidden": false,
        "inputHidden": false
      }
    },
    {
      "cell_type": "code",
      "source": [
        "particle_type_selector = widgets.ToggleButtons(options=['gamma', 'e+', 'e-'], description='Particle type:')\n",
        "display(particle_type_selector)"
      ],
      "outputs": [],
      "execution_count": null,
      "metadata": {
        "collapsed": false,
        "outputHidden": false,
        "inputHidden": false
      }
    },
    {
      "cell_type": "code",
      "source": [
        "number_of_particles_slider = widgets.IntSlider(\n",
        "    value=20,\n",
        "    min=1,\n",
        "    max=100,\n",
        "    step=9,\n",
        "    description='Number of particles:',\n",
        "    continuous_update=False,\n",
        "    readout=True,\n",
        "    readout_format='d'\n",
        ")\n",
        "display(number_of_particles_slider)"
      ],
      "outputs": [],
      "execution_count": null,
      "metadata": {
        "collapsed": false,
        "outputHidden": false,
        "inputHidden": false
      }
    },
    {
      "cell_type": "code",
      "source": [
        "render_type = \"wireframe\"\n",
        "# Tipo de partículas: gamma, e+ ó e-\n",
        "tipo_de_particulas = \"e-\"\n",
        "# Número de partículas en el haz\n",
        "numero_de_particulas = 20\n",
        "# Energía de las particulas (en MeV)\n",
        "energia_de_las_particulas = 100\n",
        "# Grosor del fantoma (en cm)\n",
        "grosor_del_fantoma = 20\n",
        "# Material del fantoma\n",
        "# La lista de materiales la tienes en el enunciado\n",
        "# http://geant4.cern.ch/geant4/UserDocumentation/UsersGuides/ForApplicationDeveloper/BackupVersions/V9.4/html/apas09.html\n",
        "# Aquí tienes algunos: G4_Al, G4_Si, G4_Ar, G4_Cu, G4_Fe, G4_Ge, G4_Ag, G4_W, G4_Au, G4_Pb, G4_AIR, G4_Galactic, G4_WATER H_2O, G4_CESIUM_IODIDE, G4_SODIUM_IODIDE, G4_PLASTIC_SC_VINYLTOLUENE, G4_MYLAR\n",
        "material_del_fantoma = \"G4_WATER\"\n",
        "# Colores de las trazas para que las puedas seguir en el diagrama 3D\n",
        "color_electrones = \"yellow\"\n",
        "color_positrones = \"green\"\n",
        "color_fotones = \"white\"\n",
        "color_protones = \"blue\"\n",
        "rand_engine = Ranlux64Engine()\n",
        "HepRandom.setTheEngine(rand_engine)\n",
        "HepRandom.setTheSeed(20050830L)\n",
        "g4py.NISTmaterials.Construct()\n",
        "g4py.ezgeom.Construct()\n",
        "g4py.EMSTDpl.Construct()\n",
        "g4py.ParticleGun.Construct()\n",
        "# El espacio hasta llegar al fantoma, supongamos que es aire, pero también\n",
        "# puedes simular que es el vacío intergaláctico con \"G4_Galactic\"\n",
        "air = G4Material.GetMaterial(\"G4_AIR\")\n",
        "g4py.ezgeom.SetWorldMaterial(air)\n",
        "g4py.ezgeom.ResizeWorld(120.*cm, 120.*cm, 400.*cm)\n",
        "# Definimos un fantoma y lo situamos en la escena\n",
        "phantom_material = G4Material.GetMaterial(material_del_fantoma)\n",
        "phantom = G4EzVolume(\"PhantomBox\")\n",
        "phantom_zwidth = grosor_del_fantoma*cm\n",
        "phantom_zlocation = 100.*cm\n",
        "phantom.CreateBoxVolume(phantom_material, 100.0 * cm, 100.0 * cm, phantom_zwidth)\n",
        "phantom.SetColor(0., 0.9, 1.0)\n",
        "phantom_box_pv = phantom.PlaceIt(G4ThreeVector(0.*cm, 0.*cm, phantom_zlocation))\n",
        "# Creamos un haz de partículas y lo dirigimos contra el fantoma\n",
        "beam = g4py.MedicalBeam.Construct()\n",
        "beam.particle = tipo_de_particulas\n",
        "beam.kineticE = energia_de_las_particulas*MeV\n",
        "beam.sourcePosition = G4ThreeVector(0.*cm, 0.*cm, -90.*cm)\n",
        "beam.fieldXY = [120.*cm, 120.*cm]\n",
        "beam.SSD = 190.*cm\n",
        "# http://geant4.slac.stanford.edu/Presentations/vis/G4VisCommands.pdf\n",
        "# http://geant4.slac.stanford.edu/Presentations/vis/G4VisAdvanced.pdf\n",
        "# Los siguientes comandos son para generar la escena en un fichero VRML\n",
        "gApplyUICommand(\"/run/initialize\")\n",
        "gApplyUICommand(\"/vis/viewer/flush\")\n",
        "gApplyUICommand(\"/vis/open VRML2FILE\")\n",
        "gApplyUICommand(\"/vis/viewer/refresh\")\n",
        "gApplyUICommand(\"/vis/scene/create\")\n",
        "gApplyUICommand(\"/vis/scene/add/volume\")\n",
        "gApplyUICommand(\"/vis/drawVolume\")\n",
        "gApplyUICommand(\"/vis/modeling/trajectories/create/drawByParticleID\")\n",
        "gApplyUICommand(\"/vis/modeling/trajectories/drawByParticleID-0/set gamma \" + color_fotones)\n",
        "gApplyUICommand(\"/vis/modeling/trajectories/drawByParticleID-0/set proton \" + color_protones)\n",
        "gApplyUICommand(\"/vis/modeling/trajectories/drawByParticleID-0/set e- \" + color_electrones)\n",
        "gApplyUICommand(\"/vis/modeling/trajectories/drawByParticleID-0/set e+ \" + color_positrones)\n",
        "gApplyUICommand(\"/vis/sceneHandler/attach\")\n",
        "gApplyUICommand(\"/vis/viewer/set/style \" + tipo_de_render)\n",
        "gApplyUICommand(\"/vis/viewer/set/viewpointThetaPhi 70. 10.\")\n",
        "gApplyUICommand(\"/vis/viewer/zoom 1.\")\n",
        "gApplyUICommand(\"/tracking/storeTrajectory 1\")\n",
        "gApplyUICommand(\"/vis/scene/add/trajectories\")\n",
        "gApplyUICommand(\"/vis/scene/add/hits\")\n",
        "gApplyUICommand(\"/vis/scene/add/trajectories smooth\")\n",
        "gApplyUICommand(\"/vis/scene/endOfEventAction accumulate\")\n",
        "gRunManager.Initialize()\n",
        "gRunManager.BeamOn(numero_de_particulas)\n",
        "os.rename(\"g4_00.wrl\", \"simulacion.wrl\")"
      ],
      "outputs": [],
      "execution_count": null,
      "metadata": {
        "collapsed": false,
        "outputHidden": false,
        "inputHidden": false
      }
    },
    {
      "cell_type": "code",
      "source": [
        "import base64  \n",
        "from IPython.display import HTML\n",
        "with open('simulacion.wrl', 'r') as file:\n",
        "    data = file.read()\n",
        "\n",
        "b64 = base64.b64encode(data.encode())\n",
        "payload = b64.decode()\n",
        "html = '<a download=\"simulacion.wrl\" href=\"data:text/wrl;base64,{payload}\" target=\"_blank\">{title}</a>'\n",
        "html = html.format(payload=payload, title='Download raw WRL file',filename='simulacion.wrl')\n",
        "HTML(html)\n",
        "\n"
      ],
      "outputs": [
        {
          "output_type": "error",
          "ename": "KeyError",
          "evalue": "'simulacion'",
          "traceback": [
            "\u001b[0;31m---------------------------------------------------------------------------\u001b[0m",
            "\u001b[0;31mKeyError\u001b[0m                                  Traceback (most recent call last)",
            "\u001b[0;32m<ipython-input-3-229a52372047>\u001b[0m in \u001b[0;36m<module>\u001b[0;34m\u001b[0m\n\u001b[1;32m      7\u001b[0m \u001b[0mpayload\u001b[0m \u001b[0;34m=\u001b[0m \u001b[0mb64\u001b[0m\u001b[0;34m.\u001b[0m\u001b[0mdecode\u001b[0m\u001b[0;34m(\u001b[0m\u001b[0;34m)\u001b[0m\u001b[0;34m\u001b[0m\u001b[0;34m\u001b[0m\u001b[0m\n\u001b[1;32m      8\u001b[0m \u001b[0mhtml\u001b[0m \u001b[0;34m=\u001b[0m \u001b[0;34m'<a download=\"{simulacion.wrl}\" href=\"data:text/wrl;base64,{payload}\" target=\"_blank\">{title}</a>'\u001b[0m\u001b[0;34m\u001b[0m\u001b[0;34m\u001b[0m\u001b[0m\n\u001b[0;32m----> 9\u001b[0;31m \u001b[0mhtml\u001b[0m \u001b[0;34m=\u001b[0m \u001b[0mhtml\u001b[0m\u001b[0;34m.\u001b[0m\u001b[0mformat\u001b[0m\u001b[0;34m(\u001b[0m\u001b[0mpayload\u001b[0m\u001b[0;34m=\u001b[0m\u001b[0mpayload\u001b[0m\u001b[0;34m,\u001b[0m \u001b[0mtitle\u001b[0m\u001b[0;34m=\u001b[0m\u001b[0;34m'Download raw WRL file'\u001b[0m\u001b[0;34m,\u001b[0m\u001b[0mfilename\u001b[0m\u001b[0;34m=\u001b[0m\u001b[0;34m'simulacion.wrl'\u001b[0m\u001b[0;34m)\u001b[0m\u001b[0;34m\u001b[0m\u001b[0;34m\u001b[0m\u001b[0m\n\u001b[0m\u001b[1;32m     10\u001b[0m \u001b[0mHTML\u001b[0m\u001b[0;34m(\u001b[0m\u001b[0mhtml\u001b[0m\u001b[0;34m)\u001b[0m\u001b[0;34m\u001b[0m\u001b[0;34m\u001b[0m\u001b[0m\n\u001b[1;32m     11\u001b[0m \u001b[0;34m\u001b[0m\u001b[0m\n",
            "\u001b[0;31mKeyError\u001b[0m: 'simulacion'"
          ]
        }
      ],
      "execution_count": 3,
      "metadata": {
        "collapsed": false,
        "outputHidden": false,
        "inputHidden": false
      }
    },
    {
      "cell_type": "code",
      "source": [
        "API_ENDPOINT = \"https://doc.instantreality.org/tools/x3d_encoding_converter/convert/\"\n",
        "\n",
        "with open('simulacion.wrl', 'r') as file:\n",
        "    wrl_data = file.read()\n",
        "\n",
        "data = {'input_encoding': 'CLASSIC',\n",
        "        'output_encoding': 'HTML5', 'input_code': wrl_data}\n",
        "\n",
        "r = requests.post(url=API_ENDPOINT, data=data)\n",
        "soup = BeautifulSoup(r.text)\n",
        "html_file = open(\"simulacion.html\", \"w\")\n",
        "html_file.write(soup.find('div', {'class': 'source'}).text)\n",
        "html_file.close()"
      ],
      "outputs": [],
      "execution_count": null,
      "metadata": {
        "collapsed": false,
        "outputHidden": false,
        "inputHidden": false
      }
    }
  ],
  "metadata": {
    "kernel_info": {
      "name": "python3"
    },
    "language_info": {
      "name": "python",
      "version": "3.7.4",
      "mimetype": "text/x-python",
      "codemirror_mode": {
        "name": "ipython",
        "version": 3
      },
      "pygments_lexer": "ipython3",
      "nbconvert_exporter": "python",
      "file_extension": ".py"
    },
    "kernelspec": {
      "name": "python3",
      "language": "python",
      "display_name": "Python 3"
    },
    "nteract": {
      "version": "0.15.0"
    }
  },
  "nbformat": 4,
  "nbformat_minor": 0
}